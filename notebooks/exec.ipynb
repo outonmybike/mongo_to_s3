{
 "cells": [
  {
   "cell_type": "code",
   "execution_count": null,
   "id": "d79b5333-236d-4dec-8a21-4597fe8a1ac4",
   "metadata": {
    "scrolled": true
   },
   "outputs": [],
   "source": [
    "pip install pyspark pymongo"
   ]
  },
  {
   "cell_type": "code",
   "execution_count": null,
   "id": "969dbf1b-5f89-4314-96c8-65e045acc781",
   "metadata": {},
   "outputs": [],
   "source": [
    "%run populate_mongo_data.py"
   ]
  },
  {
   "cell_type": "code",
   "execution_count": null,
   "id": "1314c907",
   "metadata": {
    "vscode": {
     "languageId": "plaintext"
    }
   },
   "outputs": [],
   "source": [
    "%run mongo_to_s3.py"
   ]
  },
  {
   "cell_type": "code",
   "execution_count": null,
   "id": "e087ba50-ea42-4f45-9761-06990180021b",
   "metadata": {},
   "outputs": [],
   "source": [
    "%run spark_transforms.py"
   ]
  },
  {
   "cell_type": "code",
   "execution_count": null,
   "id": "c4eb919b-10cb-476a-aeca-5d5d4f58f618",
   "metadata": {},
   "outputs": [],
   "source": [
    "%%sql\n",
    "select * from mongodb_imports.accounts"
   ]
  },
  {
   "cell_type": "code",
   "execution_count": null,
   "id": "3978977b-a4a7-456a-aefe-3a337ca93e37",
   "metadata": {},
   "outputs": [],
   "source": [
    "%%sql\n",
    "select * from mongodb_imports.close_tasks"
   ]
  },
  {
   "cell_type": "code",
   "execution_count": null,
   "id": "5753a753-6866-4582-9d2f-8fccb5220774",
   "metadata": {},
   "outputs": [],
   "source": [
    "%%sql\n",
    "select * from mongodb_imports.journal_entries"
   ]
  },
  {
   "cell_type": "code",
   "execution_count": null,
   "id": "443f8ae2-6b6d-4ad7-b1b5-fdbc69a90f6b",
   "metadata": {},
   "outputs": [],
   "source": [
    "%%sql\n",
    "select * from mongodb_imports.journal_entries_lines"
   ]
  },
  {
   "cell_type": "code",
   "execution_count": null,
   "id": "575e40eb-0ed8-4676-8fd8-1204a4cc798c",
   "metadata": {},
   "outputs": [],
   "source": [
    "%%sql\n",
    "select * from mongodb_imports.journal_entry_totals"
   ]
  },
  {
   "cell_type": "code",
   "execution_count": null,
   "id": "f93e4e6d-edf5-4abf-ac92-c6a5d692fdaf",
   "metadata": {},
   "outputs": [],
   "source": [
    "%run compaction_snapshots.py"
   ]
  }
 ],
 "metadata": {
  "kernelspec": {
   "display_name": "Python 3 (ipykernel)",
   "language": "python",
   "name": "python3"
  },
  "language_info": {
   "codemirror_mode": {
    "name": "ipython",
    "version": 3
   },
   "file_extension": ".py",
   "mimetype": "text/x-python",
   "name": "python",
   "nbconvert_exporter": "python",
   "pygments_lexer": "ipython3",
   "version": "3.10.16"
  }
 },
 "nbformat": 4,
 "nbformat_minor": 5
}
